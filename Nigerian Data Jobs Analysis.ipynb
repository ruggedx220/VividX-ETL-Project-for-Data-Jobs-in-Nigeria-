{
 "cells": [
  {
   "cell_type": "code",
   "execution_count": 1,
   "id": "734eb059",
   "metadata": {
    "scrolled": true
   },
   "outputs": [
    {
     "name": "stderr",
     "output_type": "stream",
     "text": [
      "[nltk_data] Downloading package punkt to\n",
      "[nltk_data]     C:\\Users\\Victor\\AppData\\Roaming\\nltk_data...\n",
      "[nltk_data]   Package punkt is already up-to-date!\n",
      "[nltk_data] Downloading package stopwords to\n",
      "[nltk_data]     C:\\Users\\Victor\\AppData\\Roaming\\nltk_data...\n",
      "[nltk_data]   Package stopwords is already up-to-date!\n"
     ]
    },
    {
     "data": {
      "text/plain": [
       "True"
      ]
     },
     "execution_count": 1,
     "metadata": {},
     "output_type": "execute_result"
    }
   ],
   "source": [
    "import nltk\n",
    "nltk.download('punkt')\n",
    "nltk.download('stopwords')"
   ]
  },
  {
   "cell_type": "code",
   "execution_count": 2,
   "id": "db5b1104",
   "metadata": {},
   "outputs": [],
   "source": [
    "import pandas as pd\n",
    "from nltk.tokenize import word_tokenize\n",
    "from nltk.corpus import stopwords\n",
    "from string import punctuation\n",
    "from collections import Counter\n",
    "from openpyxl import Workbook"
   ]
  },
  {
   "cell_type": "code",
   "execution_count": 3,
   "id": "02be3656",
   "metadata": {},
   "outputs": [],
   "source": [
    "# Read the Excel file into a DataFrame\n",
    "df = pd.read_excel('datajobsng.xlsx')"
   ]
  },
  {
   "cell_type": "code",
   "execution_count": 4,
   "id": "1e3974b0",
   "metadata": {},
   "outputs": [],
   "source": [
    "# Replace NaN values with an empty string\n",
    "df['requirement'] = df['requirement'].fillna('')\n",
    "df['description'] = df['description'].fillna('')"
   ]
  },
  {
   "cell_type": "code",
   "execution_count": 5,
   "id": "b905a2db",
   "metadata": {},
   "outputs": [],
   "source": [
    "# Tokenization\n",
    "df['Tokenized_Requirements'] = df['requirement'].apply(lambda x: word_tokenize(x.lower()))\n",
    "\n",
    "\n",
    "df['Tokenized_description'] = df['description'].apply(lambda x: word_tokenize(x.lower()))"
   ]
  },
  {
   "cell_type": "code",
   "execution_count": 6,
   "id": "a4b599ff",
   "metadata": {},
   "outputs": [],
   "source": [
    "# Stopwords Removal\n",
    "stop_words = set(stopwords.words('english') + list(punctuation) +  ['data', 'job', 'experience','business','field','time','analysis', 'type','location','qualification','full', 'candidate', 'within', 'including', 'related', 'years', 'team', 'work', 'sources', 'ensure','ensuring', 'nigeria','looking', 'provide','use','â','understand', 'may', 'like','etc','prepare', 'well', 'â€','different', 'level', '“', 'also','make','level', 'salary','increase','primary', \"'s\", 'join', 'sets', 'relevant','city', 'state', 'key','information', 'using', 'new', 'aiâ','needs','required', 'skills', 'activities', 'various'])"
   ]
  },
  {
   "cell_type": "code",
   "execution_count": 7,
   "id": "f69cf20a",
   "metadata": {},
   "outputs": [],
   "source": [
    "df['Filtered_Requirements'] = df['Tokenized_Requirements'].apply(lambda x: [word for word in x if word not in stop_words])\n",
    "\n",
    "df['Filtered_description'] = df['Tokenized_description'].apply(lambda x: [word for word in x if word not in stop_words])"
   ]
  },
  {
   "cell_type": "code",
   "execution_count": 8,
   "id": "c1004553",
   "metadata": {},
   "outputs": [],
   "source": [
    "# Frequency Analysis for both columns\n",
    "all_words_requirement = [word for sublist in df['Filtered_Requirements'] for word in sublist]\n",
    "word_freq_requirement = Counter(all_words_requirement)\n",
    "common_terms_in_requirement = word_freq_requirement.most_common()  # Get the most common terms for 'requirement' column\n",
    "\n",
    "all_words_description = [word for sublist in df['Filtered_description'] for word in sublist]\n",
    "word_freq_description = Counter(all_words_description)\n",
    "common_terms_in_description = word_freq_description.most_common()  # Get the most common terms for 'description' column"
   ]
  },
  {
   "cell_type": "code",
   "execution_count": 9,
   "id": "52de7e13",
   "metadata": {},
   "outputs": [],
   "source": [
    "overall_common_terms = common_terms_in_requirement + common_terms_in_description  "
   ]
  },
  {
   "cell_type": "code",
   "execution_count": 10,
   "id": "88dbb42d",
   "metadata": {},
   "outputs": [
    {
     "name": "stdout",
     "output_type": "stream",
     "text": [
      "Data saved to output_file.xlsx\n"
     ]
    }
   ],
   "source": [
    "# Create a new Workbook\n",
    "wb = Workbook()\n",
    "\n",
    "# Select the active worksheet\n",
    "ws = wb.active\n",
    "\n",
    "# Write headers\n",
    "ws.append(['Term', 'Frequency'])\n",
    "\n",
    "# Write data\n",
    "for term, frequency in overall_common_terms:\n",
    "    ws.append([term, frequency])\n",
    "\n",
    "# Replace 'output_file.xlsx' with the path where you want to save the file\n",
    "output_file = 'output_file.xlsx'\n",
    "\n",
    "# Save the workbook\n",
    "wb.save(output_file)\n",
    "\n",
    "print(f\"Data saved to {output_file}\")"
   ]
  }
 ],
 "metadata": {
  "kernelspec": {
   "display_name": "Python 3 (ipykernel)",
   "language": "python",
   "name": "python3"
  },
  "language_info": {
   "codemirror_mode": {
    "name": "ipython",
    "version": 3
   },
   "file_extension": ".py",
   "mimetype": "text/x-python",
   "name": "python",
   "nbconvert_exporter": "python",
   "pygments_lexer": "ipython3",
   "version": "3.11.1"
  }
 },
 "nbformat": 4,
 "nbformat_minor": 5
}
