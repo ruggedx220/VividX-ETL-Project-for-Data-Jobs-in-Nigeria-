{
 "cells": [
  {
   "cell_type": "code",
   "execution_count": 1,
   "id": "a47f2583",
   "metadata": {
    "executionInfo": {
     "elapsed": 11,
     "status": "ok",
     "timestamp": 1708167171947,
     "user": {
      "displayName": "olayiwola olakunle",
      "userId": "17989532545723626314"
     },
     "user_tz": -60
    },
    "id": "Gb67hC9o7gT4"
   },
   "outputs": [],
   "source": [
    "import pandas as pd\n",
    "import requests\n",
    "from bs4 import BeautifulSoup\n",
    "from csv import writer"
   ]
  },
  {
   "cell_type": "code",
   "execution_count": 2,
   "id": "5b8121a3",
   "metadata": {
    "executionInfo": {
     "elapsed": 487,
     "status": "ok",
     "timestamp": 1708167181164,
     "user": {
      "displayName": "olayiwola olakunle",
      "userId": "17989532545723626314"
     },
     "user_tz": -60
    },
    "id": "KIQQ3WIW7uNU"
   },
   "outputs": [],
   "source": [
    "HEADERS = {'User-Agent':'Mozilla/5.0 (Windows NT 10.0; Win64; x64) AppleWebKit/537.36 (KHTML, like Gecko) Chrome/121.0.0.0 Safari/537.36'}"
   ]
  },
  {
   "cell_type": "code",
   "execution_count": 3,
   "id": "3f250e40",
   "metadata": {
    "executionInfo": {
     "elapsed": 677,
     "status": "ok",
     "timestamp": 1708167188022,
     "user": {
      "displayName": "olayiwola olakunle",
      "userId": "17989532545723626314"
     },
     "user_tz": -60
    },
    "id": "5QjzgZtk7zSI"
   },
   "outputs": [],
   "source": [
    "url = 'https://www.hotnigerianjobs.com/field/216/'"
   ]
  },
  {
   "cell_type": "code",
   "execution_count": 4,
   "id": "facd952e",
   "metadata": {
    "executionInfo": {
     "elapsed": 1152,
     "status": "ok",
     "timestamp": 1708167192322,
     "user": {
      "displayName": "olayiwola olakunle",
      "userId": "17989532545723626314"
     },
     "user_tz": -60
    },
    "id": "R33dg8Du8ZFa"
   },
   "outputs": [],
   "source": [
    "page = requests.get(url, headers=HEADERS)"
   ]
  },
  {
   "cell_type": "code",
   "execution_count": 5,
   "id": "3f467387",
   "metadata": {
    "executionInfo": {
     "elapsed": 440,
     "status": "ok",
     "timestamp": 1708167204422,
     "user": {
      "displayName": "olayiwola olakunle",
      "userId": "17989532545723626314"
     },
     "user_tz": -60
    },
    "id": "goa-OQZc8lMV"
   },
   "outputs": [],
   "source": [
    "soup = BeautifulSoup(page.content, 'html.parser')"
   ]
  },
  {
   "cell_type": "code",
   "execution_count": 6,
   "id": "0d4c787d",
   "metadata": {
    "executionInfo": {
     "elapsed": 559,
     "status": "ok",
     "timestamp": 1708167208472,
     "user": {
      "displayName": "olayiwola olakunle",
      "userId": "17989532545723626314"
     },
     "user_tz": -60
    },
    "id": "yx4ZWJ7O9BQ_"
   },
   "outputs": [],
   "source": [
    "cards = soup.find_all('div', class_= 'mycase')"
   ]
  },
  {
   "cell_type": "code",
   "execution_count": 7,
   "id": "aa8d37e2",
   "metadata": {
    "colab": {
     "base_uri": "https://localhost:8080/"
    },
    "executionInfo": {
     "elapsed": 12,
     "status": "ok",
     "timestamp": 1708167214067,
     "user": {
      "displayName": "olayiwola olakunle",
      "userId": "17989532545723626314"
     },
     "user_tz": -60
    },
    "id": "KzbZqw1j9e0G",
    "outputId": "3e83d837-ff89-49d8-a941-c11a157fe77d"
   },
   "outputs": [
    {
     "name": "stdout",
     "output_type": "stream",
     "text": [
      "No 'span' tag found.\n",
      "No 'span' tag found.\n",
      "No 'span' tag found.\n",
      "No 'span' tag found.\n"
     ]
    }
   ],
   "source": [
    "job_url = []\n",
    "for link in cards:\n",
    "  a_tag=link.find('span',class_='jobheader')\n",
    "  if a_tag:\n",
    "    #Try to find 'a' tag within the 'span' tag\n",
    "    urls = a_tag.find('a')\n",
    "\n",
    "    # Check if 'a' tag is found\n",
    "    if urls:\n",
    "      # Print or process the URL\n",
    "      job_url.append(urls.get('href'))\n",
    "    else:\n",
    "      print(\"No 'a' tag found in the 'span' tag.\")\n",
    "  else:\n",
    "     print(\"No 'span' tag found.\")"
   ]
  },
  {
   "cell_type": "code",
   "execution_count": 13,
   "id": "8a04211c",
   "metadata": {
    "colab": {
     "base_uri": "https://localhost:8080/"
    },
    "executionInfo": {
     "elapsed": 36278,
     "status": "ok",
     "timestamp": 1708167552013,
     "user": {
      "displayName": "olayiwola olakunle",
      "userId": "17989532545723626314"
     },
     "user_tz": -60
    },
    "id": "g0OhepeWCfMK",
    "outputId": "ce451f6f-9f17-4cd8-c871-793fa9b1021f"
   },
   "outputs": [
    {
     "name": "stdout",
     "output_type": "stream",
     "text": [
      "Job Title: Field Enumerator / Data Collector (Need - Base)\n"
     ]
    }
   ],
   "source": [
    "for a in job_url:\n",
    "  #try:\n",
    "  links = a\n",
    "  #print(links)\n",
    "  new_page = requests.get(links, headers = HEADERS)\n",
    "  new_soup = BeautifulSoup(new_page.content, 'html.parser')\n",
    "  title_tag = new_soup.find('div',class_='mycase4')\n",
    "  title = title_tag.find('strong')\n",
    "print(title.text)"
   ]
  },
  {
   "cell_type": "code",
   "execution_count": 4,
   "id": "e01c06cb",
   "metadata": {
    "executionInfo": {
     "elapsed": 5,
     "status": "ok",
     "timestamp": 1700431153654,
     "user": {
      "displayName": "olayiwola olakunle",
      "userId": "17989532545723626314"
     },
     "user_tz": -60
    },
    "id": "OzNKbeBV_enU"
   },
   "outputs": [],
   "source": [
    "url = 'https://www.hotnigerianjobs.com/field/216'"
   ]
  },
  {
   "cell_type": "code",
   "execution_count": 5,
   "id": "77032159",
   "metadata": {
    "executionInfo": {
     "elapsed": 569,
     "status": "ok",
     "timestamp": 1700431156518,
     "user": {
      "displayName": "olayiwola olakunle",
      "userId": "17989532545723626314"
     },
     "user_tz": -60
    },
    "id": "YbPPVYXE_RqB"
   },
   "outputs": [],
   "source": [
    "response = requests.get(url)"
   ]
  },
  {
   "cell_type": "code",
   "execution_count": 6,
   "id": "6cdc0859",
   "metadata": {
    "executionInfo": {
     "elapsed": 10,
     "status": "ok",
     "timestamp": 1700431158083,
     "user": {
      "displayName": "olayiwola olakunle",
      "userId": "17989532545723626314"
     },
     "user_tz": -60
    },
    "id": "IHW43jAIB_BB"
   },
   "outputs": [],
   "source": [
    "response = response.content"
   ]
  },
  {
   "cell_type": "code",
   "execution_count": 7,
   "id": "064796bf",
   "metadata": {
    "executionInfo": {
     "elapsed": 4,
     "status": "ok",
     "timestamp": 1700431160534,
     "user": {
      "displayName": "olayiwola olakunle",
      "userId": "17989532545723626314"
     },
     "user_tz": -60
    },
    "id": "9AZk8ipJM0TX"
   },
   "outputs": [],
   "source": [
    "soup = BeautifulSoup(response, 'html.parser')"
   ]
  },
  {
   "cell_type": "code",
   "execution_count": 8,
   "id": "a0b62550",
   "metadata": {
    "executionInfo": {
     "elapsed": 383,
     "status": "ok",
     "timestamp": 1700431163895,
     "user": {
      "displayName": "olayiwola olakunle",
      "userId": "17989532545723626314"
     },
     "user_tz": -60
    },
    "id": "vw7BZjspNvbS"
   },
   "outputs": [],
   "source": [
    "cards = soup.find('div')"
   ]
  },
  {
   "cell_type": "code",
   "execution_count": 9,
   "id": "b3efd88a",
   "metadata": {
    "executionInfo": {
     "elapsed": 367,
     "status": "ok",
     "timestamp": 1700431176283,
     "user": {
      "displayName": "olayiwola olakunle",
      "userId": "17989532545723626314"
     },
     "user_tz": -60
    },
    "id": "CLF72RQQPh08"
   },
   "outputs": [],
   "source": [
    "each_card = cards.find_all('div', class_ = 'mycase')"
   ]
  },
  {
   "cell_type": "code",
   "execution_count": 20,
   "id": "9c88c567",
   "metadata": {
    "colab": {
     "base_uri": "https://localhost:8080/",
     "height": 525
    },
    "executionInfo": {
     "elapsed": 404,
     "status": "error",
     "timestamp": 1700434626003,
     "user": {
      "displayName": "olayiwola olakunle",
      "userId": "17989532545723626314"
     },
     "user_tz": -60
    },
    "id": "VyqJj0ijQs99",
    "outputId": "ad241421-0143-45de-871e-63aae1bf12b4"
   },
   "outputs": [
    {
     "name": "stdout",
     "output_type": "stream",
     "text": [
      "Analyst at Open Capital Advisors\n",
      "\r\n",
      "\t\t\t\t\t\t\t\t\tOpen Capital Advisors is recruiting to fill the position of: Analyst. The position is located in Lagos State. Interested candidates should possess an MBA or Advanced Degree qualification. \r\n",
      "\t\t\t\t\t\tApply Now \n",
      "\n",
      "Skilled & Top Talents Recruitment at Nigeria Professionals Hub with TN\n",
      "\r\n",
      "\t\t\t\t\t\t\t\t\tNigeria Professionals Hub with TN invites applications from skilled and top talented candidates to fill various openings in the following fields: Admin, Customer Service, Data Entry with Office, Media, Marketing, Finance and so many more. The positions are located in Owerri, Imo State. Salary: N40,000 - N150,000 Monthly. Interested candidates should possess relevant skills. \r\n",
      "\t\t\t\t\t\tApply Now \n",
      "\n",
      "Data Entry Specialist at Hux Ventures\n",
      "\r\n",
      "\t\t\t\t\t\t\t\t\tHux Ventures is recruiting to fill the position of: Data Entry Specialist. The position is located in Akure, Ondo State. Salary: N50,000 / month. Interested candidates should possess a High School Diploma or equivalent. \r\n",
      "\t\t\t\t\t\tApply Now \n",
      "\n",
      "Role not found\n"
     ]
    },
    {
     "ename": "AttributeError",
     "evalue": "ignored",
     "output_type": "error",
     "traceback": [
      "\u001b[0;31m---------------------------------------------------------------------------\u001b[0m",
      "\u001b[0;31mAttributeError\u001b[0m                            Traceback (most recent call last)",
      "\u001b[0;32m<ipython-input-20-64901114ff86>\u001b[0m in \u001b[0;36m<cell line: 1>\u001b[0;34m()\u001b[0m\n\u001b[1;32m      6\u001b[0m   \u001b[0;32melse\u001b[0m\u001b[0;34m:\u001b[0m\u001b[0;34m\u001b[0m\u001b[0;34m\u001b[0m\u001b[0m\n\u001b[1;32m      7\u001b[0m         \u001b[0mprint\u001b[0m\u001b[0;34m(\u001b[0m\u001b[0;34m\"Role not found\"\u001b[0m\u001b[0;34m)\u001b[0m\u001b[0;34m\u001b[0m\u001b[0;34m\u001b[0m\u001b[0m\n\u001b[0;32m----> 8\u001b[0;31m   \u001b[0mdescription\u001b[0m \u001b[0;34m=\u001b[0m \u001b[0meach\u001b[0m\u001b[0;34m.\u001b[0m\u001b[0mfind\u001b[0m\u001b[0;34m(\u001b[0m\u001b[0;34m'div'\u001b[0m\u001b[0;34m,\u001b[0m \u001b[0mclass_\u001b[0m\u001b[0;34m=\u001b[0m\u001b[0;34m'mycase4'\u001b[0m\u001b[0;34m)\u001b[0m\u001b[0;34m.\u001b[0m\u001b[0mtext\u001b[0m\u001b[0;34m\u001b[0m\u001b[0;34m\u001b[0m\u001b[0m\n\u001b[0m\u001b[1;32m      9\u001b[0m   \u001b[0mprint\u001b[0m\u001b[0;34m(\u001b[0m\u001b[0mdescription\u001b[0m\u001b[0;34m)\u001b[0m\u001b[0;34m\u001b[0m\u001b[0;34m\u001b[0m\u001b[0m\n",
      "\u001b[0;31mAttributeError\u001b[0m: 'NoneType' object has no attribute 'text'"
     ]
    }
   ],
   "source": [
    "for each in each_card:\n",
    "  role = each.find('span', class_='jobheader')\n",
    "  if role:\n",
    "        role = role.text.strip()\n",
    "  else:\n",
    "        print(\"Role not found\")\n",
    "  description = each.find('div', class_='mycase4').text\n",
    "  print(description)"
   ]
  },
  {
   "cell_type": "code",
   "execution_count": null,
   "id": "dd3a240e",
   "metadata": {},
   "outputs": [],
   "source": []
  }
 ],
 "metadata": {
  "kernelspec": {
   "display_name": "Python 3 (ipykernel)",
   "language": "python",
   "name": "python3"
  },
  "language_info": {
   "codemirror_mode": {
    "name": "ipython",
    "version": 3
   },
   "file_extension": ".py",
   "mimetype": "text/x-python",
   "name": "python",
   "nbconvert_exporter": "python",
   "pygments_lexer": "ipython3",
   "version": "3.11.1"
  }
 },
 "nbformat": 4,
 "nbformat_minor": 5
}
